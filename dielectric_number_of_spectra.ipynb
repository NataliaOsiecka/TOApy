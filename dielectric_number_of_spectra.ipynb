{
  "nbformat": 4,
  "nbformat_minor": 0,
  "metadata": {
    "colab": {
      "name": "dielectric_number-of-spectra.ipynb",
      "provenance": [],
      "authorship_tag": "ABX9TyNbYU3Ww00JFhX2dyZJsAhA",
      "include_colab_link": true
    },
    "kernelspec": {
      "name": "python3",
      "display_name": "Python 3"
    }
  },
  "cells": [
    {
      "cell_type": "markdown",
      "metadata": {
        "id": "view-in-github",
        "colab_type": "text"
      },
      "source": [
        "<a href=\"https://colab.research.google.com/github/NataliaOsiecka/TOApy/blob/master/dielectric_number_of_spectra.ipynb\" target=\"_parent\"><img src=\"https://colab.research.google.com/assets/colab-badge.svg\" alt=\"Open In Colab\"/></a>"
      ]
    },
    {
      "cell_type": "markdown",
      "metadata": {
        "id": "VWw4k4Kl4nK6",
        "colab_type": "text"
      },
      "source": [
        "Case 1\n",
        "\n",
        "parameters for Havrilak-Negami functions:\n",
        "\n",
        "deltaH=60kJ/mol\n",
        "\n",
        "delta epsilon = 0.25\n",
        "\n",
        "alfa = 0.02\n",
        "\n",
        "beta = 0.90\n",
        "\n",
        "A = 1000\n",
        "\n",
        "number of spectra 5\n",
        "\n",
        "temperature range 20C-60C"
      ]
    },
    {
      "cell_type": "code",
      "metadata": {
        "id": "yM1YSGTAxlPl",
        "colab_type": "code",
        "colab": {}
      },
      "source": [
        ""
      ],
      "execution_count": 0,
      "outputs": []
    }
  ]
}