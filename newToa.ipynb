{
  "nbformat": 4,
  "nbformat_minor": 0,
  "metadata": {
    "colab": {
      "name": "newToa.ipynb",
      "provenance": [],
      "authorship_tag": "ABX9TyMirvkLMHeI7iICYBJSo2H5",
      "include_colab_link": true
    },
    "kernelspec": {
      "name": "python3",
      "display_name": "Python 3"
    }
  },
  "cells": [
    {
      "cell_type": "markdown",
      "metadata": {
        "id": "view-in-github",
        "colab_type": "text"
      },
      "source": [
        "<a href=\"https://colab.research.google.com/github/NataliaOsiecka/TOApy/blob/master/newToa.ipynb\" target=\"_parent\"><img src=\"https://colab.research.google.com/assets/colab-badge.svg\" alt=\"Open In Colab\"/></a>"
      ]
    },
    {
      "cell_type": "code",
      "metadata": {
        "id": "YjVnIX_j3oJJ",
        "colab_type": "code",
        "colab": {}
      },
      "source": [
        "# -*- coding: utf-8 -*-\n",
        "\"\"\"\n",
        "Created on Thu May 21 17:28:56 2020\n",
        "\n",
        "@author: Natalia Osiecka\n",
        "\"\"\"\n",
        "\n",
        "#otworzyć zdjęcia\n",
        "\n",
        "import glob\n",
        "import csv\n",
        "import cv2\n",
        "import sys\n",
        "\n",
        "import matplotlib.pyplot as plt\n",
        "\n",
        "def main():\n",
        "    script = sys.argv[0]\n",
        "    #start_temperature [C]\n",
        "    start_temperature = float(sys.argv[1])\n",
        "    #rate [C/min]\n",
        "    rate = float(sys.argv[2])\n",
        "    #timelaps [s]\n",
        "    timelaps = float(sys.argv[3])\n",
        "    #c for cooling, h for heating\n",
        "    mode = sys.argv[4]\n",
        "\n",
        "    filenames = glob.glob('*.tif')\n",
        "\n",
        "    gray_list = []\n",
        "    temperature_list = []\n",
        "\n",
        "\n",
        "    for i, item in enumerate(filenames):\n",
        "        time = i*timelaps\n",
        "        delta_temperature = (rate*time)/60\n",
        "        if mode == 'c':\n",
        "            temperature_point = start_temperature - delta_temperature\n",
        "        else:\n",
        "            temperature_point = start_temperature + delta_temperature\n",
        "        temperature_list.append(temperature_point)\n",
        "        image = cv2.imread(item, 0)\n",
        "    \n",
        "        gray_point = cv2.sumElems(image)\n",
        "        gray_list.append(gray_point[0])\n",
        "        \n",
        "    plot_data(temperature_list, gray_list)\n",
        "    export_to_csv(temperature_list, gray_list)\n",
        "\n",
        "\n",
        "def plot_data(x,y):\n",
        "    plt.plot(x,y)\n",
        "    plt.xlabel(r'Temperature [$^{0}$C]', fontsize = 16)\n",
        "    plt.xticks(fontsize = 14)\n",
        "    plt.ylabel(r'Intensity [a.u.]', fontsize = 16)\n",
        "    plt.yticks(fontsize = 14)\n",
        "    plt.grid()\n",
        "    plt.show()\n",
        "\n",
        "def export_to_csv(x,y):\n",
        "    z = list(zip(x,y))\n",
        "    with open('toa_data.csv', 'w', newline=\"\") as f:\n",
        "        writer = csv.writer(f)\n",
        "        for item in z:\n",
        "            writer.writerow(item)\n",
        "  \n",
        "if __name__==\"__main__\":\n",
        "    print(\"cv_version: {}\".format(cv2.__version__))\n",
        "    main()\n"
      ],
      "execution_count": 0,
      "outputs": []
    }
  ]
}